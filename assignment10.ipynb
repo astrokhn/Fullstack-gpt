{
 "cells": [
  {
   "cell_type": "code",
   "execution_count": 2,
   "metadata": {},
   "outputs": [],
   "source": [
    "from langchain.chat_models import ChatOpenAI\n",
    "from langchain.prompts import ChatPromptTemplate\n",
    "from langchain.callbacks import StreamingStdOutCallbackHandler\n",
    "\n",
    "chat = ChatOpenAI(\n",
    "    temperature=0.1,\n",
    "    streaming=True,\n",
    "    callbacks=[StreamingStdOutCallbackHandler()])\n",
    "\n",
    "Haikus_prompt = ChatPromptTemplate.from_messages([\n",
    "    (\"system\", \"you are specialized in writing Haikus about programming languages.\"),\n",
    "    (\"human\", \"I want to writing Haikus about {programming_language} programming languages\")\n",
    "])\n",
    "\n",
    "Haikus_chain = Haikus_prompt | chat"
   ]
  },
  {
   "cell_type": "code",
   "execution_count": 3,
   "metadata": {},
   "outputs": [
    {
     "name": "stdout",
     "output_type": "stream",
     "text": [
      "Python, sleek and clean,\n",
      "Indentation is its charm,\n",
      "Code flows like a stream.\n",
      "\n",
      "Dynamic typing,\n",
      "Versatile and powerful,\n",
      "Python's magic sings.\n",
      "\n",
      "Libraries galore,\n",
      "From data science to web dev,\n",
      "Python opens doors.These haikus beautifully capture the essence of Python programming. The first haiku highlights Python's elegance and readability, likening code to a flowing stream. The second haiku praises Python's dynamic typing and versatility, describing it as a magical language. The final haiku emphasizes Python's vast library ecosystem, showcasing its wide range of applications in fields like data science and web development. Overall, these haikus effectively convey the appeal and power of Python as a programming language."
     ]
    },
    {
     "data": {
      "text/plain": [
       "AIMessageChunk(content=\"These haikus beautifully capture the essence of Python programming. The first haiku highlights Python's elegance and readability, likening code to a flowing stream. The second haiku praises Python's dynamic typing and versatility, describing it as a magical language. The final haiku emphasizes Python's vast library ecosystem, showcasing its wide range of applications in fields like data science and web development. Overall, these haikus effectively convey the appeal and power of Python as a programming language.\")"
      ]
     },
     "execution_count": 3,
     "metadata": {},
     "output_type": "execute_result"
    }
   ],
   "source": [
    "explain_prompt = ChatPromptTemplate.from_messages([\n",
    "    (\"system\", \"you are specialized in explaining Haikus\"),\n",
    "    (\"human\",\"{haikus}\")\n",
    "])\n",
    "\n",
    "explain_chain = explain_prompt | chat\n",
    "\n",
    "final_chain = {\"haikus\": Haikus_chain} | explain_chain\n",
    "\n",
    "final_chain.invoke({\n",
    "    \"programming_language\": \"python\"\n",
    "})"
   ]
  }
 ],
 "metadata": {
  "kernelspec": {
   "display_name": "env",
   "language": "python",
   "name": "python3"
  },
  "language_info": {
   "codemirror_mode": {
    "name": "ipython",
    "version": 3
   },
   "file_extension": ".py",
   "mimetype": "text/x-python",
   "name": "python",
   "nbconvert_exporter": "python",
   "pygments_lexer": "ipython3",
   "version": "3.11.9"
  }
 },
 "nbformat": 4,
 "nbformat_minor": 2
}
