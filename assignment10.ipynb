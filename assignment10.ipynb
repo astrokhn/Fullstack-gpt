{
 "cells": [
  {
   "cell_type": "code",
   "execution_count": 8,
   "metadata": {},
   "outputs": [],
   "source": [
    "from langchain.chat_models import ChatOpenAI\n",
    "from langchain.prompts import ChatPromptTemplate\n",
    "from langchain.callbacks import StreamingStdOutCallbackHandler\n",
    "\n",
    "chat = ChatOpenAI(\n",
    "    model=\"gpt-3.5-turbo\",\n",
    "    temperature=0.1,\n",
    "    streaming=True,\n",
    "    callbacks=[StreamingStdOutCallbackHandler()])\n",
    "\n",
    "Haikus_prompt = ChatPromptTemplate.from_messages([\n",
    "    (\"system\", \"you are specialized in writing Haikus about programming languages in English and Korean. You can writing Haikus in English and then you can writng in Korean\"),\n",
    "    (\"human\", \"I want to writing Haikus about {programming_language} programming languages\")\n",
    "])\n",
    "\n",
    "Haikus_chain = Haikus_prompt | chat"
   ]
  },
  {
   "cell_type": "code",
   "execution_count": 9,
   "metadata": {},
   "outputs": [
    {
     "name": "stdout",
     "output_type": "stream",
     "text": [
      "In Python's embrace,\n",
      "Clean syntax and power meet,\n",
      "Code flows like a stream.\n",
      "\n",
      "파이썬은\n",
      "깔끔한 문법과 힘,\n",
      "코드는 흐른다.This haiku beautifully captures the essence of Python programming language. In Python's embrace, clean syntax and power come together, allowing code to flow effortlessly like a stream.\n",
      "\n",
      "이 하이쿠는 파이썬 프로그래밍 언어의 본질을 아름답게 담아냈습니다. 파이썬은 깔끔한 문법과 힘이 만나 코드가 강처럼 흐르도록 허용합니다."
     ]
    },
    {
     "data": {
      "text/plain": [
       "AIMessageChunk(content=\"This haiku beautifully captures the essence of Python programming language. In Python's embrace, clean syntax and power come together, allowing code to flow effortlessly like a stream.\\n\\n이 하이쿠는 파이썬 프로그래밍 언어의 본질을 아름답게 담아냈습니다. 파이썬은 깔끔한 문법과 힘이 만나 코드가 강처럼 흐르도록 허용합니다.\")"
      ]
     },
     "execution_count": 9,
     "metadata": {},
     "output_type": "execute_result"
    }
   ],
   "source": [
    "explain_prompt = ChatPromptTemplate.from_messages([\n",
    "    (\"system\", \"you are specialized in explaining Haikus in English and Korean. You can explain Haikus in English and then you can writng in Korean\"),\n",
    "    (\"human\",\"{haikus}\")\n",
    "])\n",
    "\n",
    "explain_chain = explain_prompt | chat\n",
    "\n",
    "final_chain = {\"haikus\": Haikus_chain} | explain_chain\n",
    "\n",
    "final_chain.invoke({\n",
    "    \"programming_language\": \"python\"\n",
    "})"
   ]
  }
 ],
 "metadata": {
  "kernelspec": {
   "display_name": "env",
   "language": "python",
   "name": "python3"
  },
  "language_info": {
   "codemirror_mode": {
    "name": "ipython",
    "version": 3
   },
   "file_extension": ".py",
   "mimetype": "text/x-python",
   "name": "python",
   "nbconvert_exporter": "python",
   "pygments_lexer": "ipython3",
   "version": "3.11.9"
  }
 },
 "nbformat": 4,
 "nbformat_minor": 2
}
