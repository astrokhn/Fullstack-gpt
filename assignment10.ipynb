{
 "cells": [
  {
   "cell_type": "code",
   "execution_count": 4,
   "metadata": {},
   "outputs": [],
   "source": [
    "from langchain.chat_models import ChatOpenAI\n",
    "from langchain.prompts import ChatPromptTemplate\n",
    "from langchain.callbacks import StreamingStdOutCallbackHandler\n",
    "\n",
    "chat = ChatOpenAI(\n",
    "    model=\"gpt-3.5-turbo\",\n",
    "    temperature=0.1,\n",
    "    streaming=True,\n",
    "    callbacks=[StreamingStdOutCallbackHandler()])\n",
    "\n",
    "Haikus_prompt = ChatPromptTemplate.from_messages([\n",
    "    (\"system\", \"you are specialized in writing Haikus about programming languages.\"),\n",
    "    (\"human\", \"I want to writing Haikus about {programming_language} programming languages\")\n",
    "])\n",
    "\n",
    "Haikus_chain = Haikus_prompt | chat"
   ]
  },
  {
   "cell_type": "code",
   "execution_count": 5,
   "metadata": {},
   "outputs": [
    {
     "name": "stdout",
     "output_type": "stream",
     "text": [
      "Indentation key,\n",
      "Python's clean syntax shines bright,\n",
      "Code flows gracefully.This haiku beautifully captures the essence of Python programming. The first line, \"Indentation key,\" refers to Python's unique use of indentation to define code blocks, which sets it apart from other programming languages. The second line, \"Python's clean syntax shines bright,\" highlights the simplicity and readability of Python code, making it easy for developers to understand and maintain. The final line, \"Code flows gracefully,\" emphasizes how code written in Python flows smoothly and elegantly, creating a harmonious and efficient programming experience. Overall, this haiku celebrates the beauty and elegance of Python programming."
     ]
    },
    {
     "data": {
      "text/plain": [
       "AIMessageChunk(content='This haiku beautifully captures the essence of Python programming. The first line, \"Indentation key,\" refers to Python\\'s unique use of indentation to define code blocks, which sets it apart from other programming languages. The second line, \"Python\\'s clean syntax shines bright,\" highlights the simplicity and readability of Python code, making it easy for developers to understand and maintain. The final line, \"Code flows gracefully,\" emphasizes how code written in Python flows smoothly and elegantly, creating a harmonious and efficient programming experience. Overall, this haiku celebrates the beauty and elegance of Python programming.')"
      ]
     },
     "execution_count": 5,
     "metadata": {},
     "output_type": "execute_result"
    }
   ],
   "source": [
    "explain_prompt = ChatPromptTemplate.from_messages([\n",
    "    (\"system\", \"you are specialized in explaining Haikus\"),\n",
    "    (\"human\",\"{haikus}\")\n",
    "])\n",
    "\n",
    "explain_chain = explain_prompt | chat\n",
    "\n",
    "final_chain = {\"haikus\": Haikus_chain} | explain_chain\n",
    "\n",
    "final_chain.invoke({\n",
    "    \"programming_language\": \"python\"\n",
    "})"
   ]
  }
 ],
 "metadata": {
  "kernelspec": {
   "display_name": "env",
   "language": "python",
   "name": "python3"
  },
  "language_info": {
   "codemirror_mode": {
    "name": "ipython",
    "version": 3
   },
   "file_extension": ".py",
   "mimetype": "text/x-python",
   "name": "python",
   "nbconvert_exporter": "python",
   "pygments_lexer": "ipython3",
   "version": "3.11.9"
  }
 },
 "nbformat": 4,
 "nbformat_minor": 2
}
