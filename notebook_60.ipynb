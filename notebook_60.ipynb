{
 "cells": [
  {
   "cell_type": "code",
   "execution_count": 17,
   "metadata": {},
   "outputs": [
    {
     "name": "stderr",
     "output_type": "stream",
     "text": [
      "Created a chunk of size 964, which is longer than the specified 600\n",
      "Created a chunk of size 775, which is longer than the specified 600\n",
      "Created a chunk of size 955, which is longer than the specified 600\n",
      "Created a chunk of size 923, which is longer than the specified 600\n",
      "Created a chunk of size 1169, which is longer than the specified 600\n",
      "Created a chunk of size 822, which is longer than the specified 600\n",
      "Created a chunk of size 701, which is longer than the specified 600\n",
      "Created a chunk of size 746, which is longer than the specified 600\n",
      "Created a chunk of size 736, which is longer than the specified 600\n",
      "Created a chunk of size 1111, which is longer than the specified 600\n",
      "Created a chunk of size 992, which is longer than the specified 600\n",
      "Created a chunk of size 991, which is longer than the specified 600\n",
      "Created a chunk of size 1742, which is longer than the specified 600\n",
      "Created a chunk of size 2002, which is longer than the specified 600\n",
      "Created a chunk of size 1901, which is longer than the specified 600\n",
      "Created a chunk of size 1131, which is longer than the specified 600\n",
      "Created a chunk of size 1800, which is longer than the specified 600\n",
      "Created a chunk of size 1691, which is longer than the specified 600\n",
      "Created a chunk of size 2365, which is longer than the specified 600\n",
      "Created a chunk of size 931, which is longer than the specified 600\n",
      "Created a chunk of size 1023, which is longer than the specified 600\n",
      "Created a chunk of size 1261, which is longer than the specified 600\n",
      "Created a chunk of size 796, which is longer than the specified 600\n",
      "Created a chunk of size 1294, which is longer than the specified 600\n",
      "Created a chunk of size 650, which is longer than the specified 600\n"
     ]
    },
    {
     "name": "stdout",
     "output_type": "stream",
     "text": [
      "39\n"
     ]
    }
   ],
   "source": [
    "from langchain.chat_models import ChatOpenAI\n",
    "from langchain.document_loaders import UnstructuredFileLoader\n",
    "from langchain.text_splitter import RecursiveCharacterTextSplitter\n",
    "from langchain.text_splitter import CharacterTextSplitter\n",
    "\n",
    "# splitter = RecursiveCharacterTextSplitter(chunk_size = 200, chunk_overlap = 50,)\n",
    "\n",
    "splitter = CharacterTextSplitter(\n",
    "    separator = \"\\n\",\n",
    "    chunk_size = 600,\n",
    "    chunk_overlap = 100,\n",
    ")\n",
    "\n",
    "loader = UnstructuredFileLoader(\"./files/1984_chap_one.docx\")\n",
    "\n",
    "# docs = loader.load()\n",
    "# splitter.split_documents(docs)\n",
    "\n",
    "result = loader.load_and_split(text_splitter=splitter )\n",
    "print(len(result))"
   ]
  },
  {
   "cell_type": "code",
   "execution_count": null,
   "metadata": {},
   "outputs": [],
   "source": []
  }
 ],
 "metadata": {
  "kernelspec": {
   "display_name": "env",
   "language": "python",
   "name": "python3"
  },
  "language_info": {
   "codemirror_mode": {
    "name": "ipython",
    "version": 3
   },
   "file_extension": ".py",
   "mimetype": "text/x-python",
   "name": "python",
   "nbconvert_exporter": "python",
   "pygments_lexer": "ipython3",
   "version": "3.11.9"
  }
 },
 "nbformat": 4,
 "nbformat_minor": 2
}
