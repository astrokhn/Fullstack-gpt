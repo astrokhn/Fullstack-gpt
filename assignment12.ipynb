{
 "cells": [
  {
   "cell_type": "code",
   "execution_count": 1,
   "metadata": {},
   "outputs": [],
   "source": [
    "# 앞서 배운 메모리 클래스 중 하나를 사용하는 메모리로 LCEL 체인을 구현합니다.\n",
    "# 이 체인은 영화 제목을 가져와 영화를 나타내는 세 개의 이모티콘으로 응답해야 합니다. (예: \"탑건\" -> \"🛩️👨‍✈️🔥\". \"대부\" -> \"👨‍👨‍👦🔫🍝\").\n",
    "# 항상 세 개의 이모티콘으로 답장하도록 FewShotPromptTemplate 또는 FewShotChatMessagePromptTemplate을 사용하여 체인에 예시를 제공하세요.\n",
    "# 메모리가 작동하는지 확인하려면 체인에 두 개의 영화에 대해 질문한 다음 다른 셀에서 체인에 먼저 질문한 영화가 무엇인지 알려달라고 요청하세요.\n",
    "\n",
    "from langchain.chat_models import ChatOpenAI\n",
    "from langchain.prompts.few_shot import FewShotChatMessagePromptTemplate\n",
    "from langchain.callbacks import StreamingStdOutCallbackHandler\n",
    "from langchain.memory import ConversationBufferWindowMemory\n",
    "from langchain.schema.runnable import RunnablePassthrough\n",
    "from langchain.prompts import ChatPromptTemplate, MessagesPlaceholder\n",
    "\n",
    "llm = ChatOpenAI(\n",
    "    model=\"gpt-4o-mini\",\n",
    "    temperature=0.1,\n",
    "    streaming=True,\n",
    "    callbacks=[StreamingStdOutCallbackHandler()],\n",
    ")\n",
    "\n",
    "memory = ConversationBufferWindowMemory(\n",
    "    return_messages=True,\n",
    "    k=10,\n",
    ")\n",
    "\n",
    "examples = [\n",
    "    {\n",
    "        \"question\": \"I want to represent the movie 'Top Gun' with three emojis.\",\n",
    "        \"answer\": \"🛩️👨‍✈️🔥\",\n",
    "    },\n",
    "    {\n",
    "        \"question\": \"I want to represent the movie 'The Godfather' with three emojis.\",\n",
    "        \"answer\": \"👨‍👨‍👦🔫🍝\",\n",
    "    },\n",
    "    {\n",
    "        \"question\": \"I want to represent the movie 'The Martian' with three emojis.\",\n",
    "        \"answer\": \"🧑‍🚀🚀🥔\",\n",
    "    },\n",
    "]\n",
    "\n",
    "example_prompt = ChatPromptTemplate.from_messages(\n",
    "    [\n",
    "        (\"human\", \"{question}\"),\n",
    "        (\"ai\", \"{answer}\"),\n",
    "    ]\n",
    ")\n",
    "\n",
    "chat_prompt = FewShotChatMessagePromptTemplate(\n",
    "    example_prompt=example_prompt,\n",
    "    examples=examples,\n",
    ")\n",
    "\n",
    "final_prompt = ChatPromptTemplate.from_messages(\n",
    "    [\n",
    "        (\n",
    "            \"system\",\n",
    "            \"You are a movie critic. You should answer 3 emoji that represents the movie well.\",\n",
    "        ),\n",
    "\n",
    "        MessagesPlaceholder(variable_name=\"history\"),\n",
    "        chat_prompt,\n",
    "        (\n",
    "            \"human\",\n",
    "            \"{question}\",\n",
    "        ),\n",
    "    ]\n",
    ")\n",
    "\n",
    "def save(input, output):\n",
    "    memory.save_context(\n",
    "        {\"input\": input},\n",
    "        {\"output\": output},\n",
    "    )\n",
    "\n",
    "\n",
    "save(\"I want to represent the movie 'Top Gun' with three emojis.\", \"🛩️👨‍✈️🔥\")\n",
    "save(\"I want to represent the movie 'The Godfather' with three emojis.\", \"👨‍👨‍👦🔫🍝\")\n",
    "save(\"I want to represent the movie 'The Martian' with three emojis.\", \"🧑‍🚀🚀🥔\")\n",
    "\n",
    "\n",
    "def load_memory(_):\n",
    "    return memory.load_memory_variables({})[\"history\"]\n",
    "\n",
    "\n",
    "chain = RunnablePassthrough.assign(history=load_memory) | final_prompt | llm\n",
    "\n",
    "\n",
    "def invoke_movie(movie):\n",
    "    question = f\"I want to represent the movie '{movie}' with three emojis.\"\n",
    "    result = chain.invoke({\"question\": question})\n",
    "    save(question, result.content)\n",
    "\n",
    "\n",
    "def invoke_question(question):\n",
    "    result = chain.invoke({\"question\": question})\n",
    "    save(question, result.content)\n"
   ]
  },
  {
   "cell_type": "code",
   "execution_count": 2,
   "metadata": {},
   "outputs": [
    {
     "name": "stdout",
     "output_type": "stream",
     "text": [
      "🌌🚀⏳"
     ]
    }
   ],
   "source": [
    "invoke_movie(\"Interstellar\")"
   ]
  },
  {
   "cell_type": "code",
   "execution_count": 3,
   "metadata": {},
   "outputs": [
    {
     "name": "stdout",
     "output_type": "stream",
     "text": [
      "🕷️🏙️🌌"
     ]
    }
   ],
   "source": [
    "invoke_movie(\"Spider-man: No Way Home\")"
   ]
  },
  {
   "cell_type": "code",
   "execution_count": 5,
   "metadata": {},
   "outputs": [
    {
     "name": "stdout",
     "output_type": "stream",
     "text": [
      "👽🚀🔫"
     ]
    }
   ],
   "source": [
    "invoke_movie(\"Alien: Romulus\")"
   ]
  },
  {
   "cell_type": "code",
   "execution_count": 7,
   "metadata": {},
   "outputs": [
    {
     "name": "stdout",
     "output_type": "stream",
     "text": [
      "Certainly! Here are the movies you asked about along with their emoji representations:\n",
      "\n",
      "1. **Top Gun**: 🛩️👨‍✈️🔥\n",
      "2. **The Godfather**: 👨‍👨‍👦🔫🍝\n",
      "3. **The Martian**: 🧑‍🚀🚀🥔\n",
      "4. **Interstellar**: 🌌🚀⏳\n",
      "5. **Spider-Man: No Way Home**: 🕷️🏙️🌌\n",
      "6. **Alien: Romulus**: 👽🚀🔫\n",
      "\n",
      "Let me know if you need anything else!"
     ]
    }
   ],
   "source": [
    "invoke_question(\"Can you tell me the movies I asked before?\")"
   ]
  }
 ],
 "metadata": {
  "kernelspec": {
   "display_name": "env",
   "language": "python",
   "name": "python3"
  },
  "language_info": {
   "codemirror_mode": {
    "name": "ipython",
    "version": 3
   },
   "file_extension": ".py",
   "mimetype": "text/x-python",
   "name": "python",
   "nbconvert_exporter": "python",
   "pygments_lexer": "ipython3",
   "version": "3.11.9"
  }
 },
 "nbformat": 4,
 "nbformat_minor": 2
}
